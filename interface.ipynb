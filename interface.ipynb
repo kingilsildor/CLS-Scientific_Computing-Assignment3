{
 "cells": [
  {
   "cell_type": "markdown",
   "metadata": {},
   "source": [
    "# Assignment 3\n",
    "Solve the 2D wave equation for eigenmodes and eigenfrequencies of membranes (square, rectangle, circle) with fixed boundaries. Discretize, compute eigenvalues, analyze frequency dependence on size, and visualize time evolution. Also, solve the steady-state diffusion equation on a circular domain."
   ]
  },
  {
   "cell_type": "code",
   "execution_count": null,
   "metadata": {},
   "outputs": [],
   "source": [
    "import numpy as np\n",
    "import matplotlib.pyplot as plt\n",
    "import seaborn as sns\n",
    "import scipy as sp\n",
    "from IPython.display import HTML\n",
    "\n",
    "from src.config import *"
   ]
  },
  {
   "cell_type": "markdown",
   "metadata": {},
   "source": [
    "----\n",
    "## 3.1 Eigenmodus of drums or membranes of different shapes\n",
    "Lorem ipsum odor amet, consectetuer adipiscing elit. Varius nullam vulputate lobortis porttitor in odio mus dictum. Tellus phasellus congue hac, tempus montes ullamcorper himenaeos. Arcu bibendum convallis lacus taciti rutrum ac dictumst mollis. Cras nullam est nostra netus nascetur iaculis hendrerit. Odio parturient purus maecenas consectetur porta hendrerit lobortis sodales. Maecenas quisque gravida sed nisi odio pellentesque habitasse. Cras tempus lacinia rhoncus conubia duis massa. Sem nibh dui mus consequat facilisi. Porta malesuada porttitor neque turpis molestie?\n",
    "\n",
    "Consequat dictum curabitur integer suspendisse inceptos. Habitant mattis odio lorem nostra feugiat vitae vel habitasse. Scelerisque vehicula turpis eleifend, felis aptent venenatis ante fames. Tincidunt auctor quam ipsum velit ornare augue. Etiam habitant felis diam; ullamcorper netus aenean consectetur leo. Purus phasellus potenti tortor maecenas pulvinar. Auctor cras cursus hac tempor nam leo ad.\n",
    "\n",
    "_by: Tycho Stam_"
   ]
  },
  {
   "cell_type": "code",
   "execution_count": null,
   "metadata": {},
   "outputs": [],
   "source": [
    "from src.grid_discretization import (\n",
    "    initialize_grid_vector,\n",
    "    initialize_tridiagonal_matrix,\n",
    ")\n",
    "from src.eigen_solver import (\n",
    "    solve_eigenvalues,\n",
    "    get_frequencies_list,\n",
    "    time_dependent_solution,\n",
    "    normalize_eigenmodus,\n",
    ")\n",
    "from script.create_plot import (\n",
    "    create_seaborn_heatmap,\n",
    "    plot_eigenmodus,\n",
    "    plot_eigenfrequency,\n",
    "    plot_eigenmode_animation,\n",
    "    plot_multiple_eigenmodes\n",
    ")"
   ]
  },
  {
   "cell_type": "code",
   "execution_count": null,
   "metadata": {},
   "outputs": [],
   "source": [
    "L = 4\n",
    "shape = \"rectangle\"\n",
    "\n",
    "v = initialize_grid_vector(L, shape=shape)\n",
    "M = initialize_tridiagonal_matrix(v, L)\n",
    "\n",
    "_, ax = plt.subplots(1, 2, figsize=(FIG_SIZE), dpi=FIG_DPI)\n",
    "\n",
    "create_seaborn_heatmap(M.toarray(), ax[0])\n",
    "ax[0].set_title(f\"Matrix of size ${L**2} x {L**2}$\")\n",
    "\n",
    "create_seaborn_heatmap(v.reshape(L, L if not shape == \"rectangle\" else L * 2), ax[1])\n",
    "ax[1].set_title(f\"Vector of length ${L**2}$,\\n using a {shape} as shape\")\n",
    "\n",
    "plt.show()"
   ]
  },
  {
   "cell_type": "code",
   "execution_count": null,
   "metadata": {},
   "outputs": [],
   "source": [
    "dx = 0.01\n",
    "L = 50\n",
    "\n",
    "v = initialize_grid_vector(L, shape=shape)"
   ]
  },
  {
   "cell_type": "code",
   "execution_count": null,
   "metadata": {},
   "outputs": [],
   "source": [
    "%%time\n",
    "M = initialize_tridiagonal_matrix(vector=v, L=L, sparse=False)\n",
    "\n",
    "M = M * dx**2\n",
    "frequencies, eigenvectors = solve_eigenvalues(M, model=\"h\")"
   ]
  },
  {
   "cell_type": "code",
   "execution_count": null,
   "metadata": {},
   "outputs": [],
   "source": [
    "%%time\n",
    "M = initialize_tridiagonal_matrix(vector=v, L=L, sparse=True)\n",
    "\n",
    "M = M * dx**2\n",
    "frequencies, eigenvectors = solve_eigenvalues(M, model=\"h\")"
   ]
  },
  {
   "cell_type": "code",
   "execution_count": null,
   "metadata": {},
   "outputs": [],
   "source": [
    "def plot_shape_modus(shape: str) -> None:\n",
    "    \"\"\"\n",
    "    Plot the eigenmodes of a given shape.\n",
    "\n",
    "    Params\n",
    "    ----------\n",
    "    - shape (str): The shape of the grid.\n",
    "    \"\"\"\n",
    "    L = 55\n",
    "    v = initialize_grid_vector(L, shape=shape)\n",
    "    M = initialize_tridiagonal_matrix(v, L, sparse=True)\n",
    "    M = M * dx**2\n",
    "\n",
    "    frequencies, eigenvectors = solve_eigenvalues(M, num_eigen=5)\n",
    "    frequencies[:PLOTS_AMOUNT], eigenvectors[:, :PLOTS_AMOUNT]\n",
    "\n",
    "    plot_multiple_eigenmodes(PLOTS_AMOUNT, frequencies, eigenvectors, L, shape=shape)"
   ]
  },
  {
   "cell_type": "code",
   "execution_count": null,
   "metadata": {},
   "outputs": [],
   "source": [
    "plot_shape_modus(\"square\")"
   ]
  },
  {
   "cell_type": "code",
   "execution_count": null,
   "metadata": {},
   "outputs": [],
   "source": [
    "plot_shape_modus(\"rectangle\")"
   ]
  },
  {
   "cell_type": "code",
   "execution_count": null,
   "metadata": {},
   "outputs": [],
   "source": [
    "plot_shape_modus(\"circle\")"
   ]
  },
  {
   "cell_type": "code",
   "execution_count": null,
   "metadata": {},
   "outputs": [],
   "source": [
    "def plot_shape_frequency(shape: str) -> None:\n",
    "    \"\"\"\n",
    "    Plot the frequency of a given shape.\n",
    "\n",
    "    Params\n",
    "    ----------\n",
    "    - shape (str): The shape of the grid.\n",
    "    \"\"\"\n",
    "    L_list = np.linspace(1, L - 10, NUM_MODES, dtype=int)\n",
    "    frequencies_list = get_frequencies_list(L, dx, L_list, shape)\n",
    "\n",
    "    plot_eigenfrequency(L_list, frequencies_list, L, shape, save_img=False)"
   ]
  },
  {
   "cell_type": "code",
   "execution_count": null,
   "metadata": {},
   "outputs": [],
   "source": [
    "plot_shape_frequency(\"square\")"
   ]
  },
  {
   "cell_type": "code",
   "execution_count": null,
   "metadata": {},
   "outputs": [],
   "source": [
    "plot_shape_frequency(\"rectangle\")"
   ]
  },
  {
   "cell_type": "code",
   "execution_count": null,
   "metadata": {},
   "outputs": [],
   "source": [
    "plot_shape_frequency(\"circle\")"
   ]
  },
  {
   "cell_type": "code",
   "execution_count": null,
   "metadata": {},
   "outputs": [],
   "source": [
    "t_list = np.linspace(0, TIME_MAX, TIME_STEPS)\n",
    "L = 55 \n",
    "v = initialize_grid_vector(L, L, shape=\"square\")\n",
    "M = initialize_tridiagonal_matrix(vector=v, sparse=True)\n",
    "M = M * dx**2\n",
    "frequencies, eigenvectors = solve_eigenvalues(M, model=\"h\")\n",
    "\n",
    "eigenmodus = eigenvectors[:, SELECT_MODE].reshape(L, L).real\n",
    "eigenmodus = normalize_eigenmodus(eigenmodus)\n",
    "frequency = frequencies[SELECT_MODE]\n",
    "\n",
    "plot_eigenmode_animation(1.0, eigenmodus, frequency, t_list, shape, delete_img=True)"
   ]
  },
  {
   "cell_type": "code",
   "execution_count": null,
   "metadata": {},
   "outputs": [],
   "source": [
    "HTML(f'<img src=\"results/wave.gif\">')"
   ]
  },
  {
   "cell_type": "markdown",
   "metadata": {},
   "source": [
    "-----\n",
    "# 3.2 Direct methods for solving the steady state problems\n",
    "Lorem ipsum odor amet, consectetuer adipiscing elit. Varius nullam vulputate lobortis porttitor in odio mus dictum. Tellus phasellus congue hac, tempus montes ullamcorper himenaeos. Arcu bibendum convallis lacus taciti rutrum ac dictumst mollis. Cras nullam est nostra netus nascetur iaculis hendrerit. Odio parturient purus maecenas consectetur porta hendrerit lobortis sodales. Maecenas quisque gravida sed nisi odio pellentesque habitasse. Cras tempus lacinia rhoncus conubia duis massa. Sem nibh dui mus consequat facilisi. Porta malesuada porttitor neque turpis molestie?\n",
    "\n",
    "Consequat dictum curabitur integer suspendisse inceptos. Habitant mattis odio lorem nostra feugiat vitae vel habitasse. Scelerisque vehicula turpis eleifend, felis aptent venenatis ante fames. Tincidunt auctor quam ipsum velit ornare augue. Etiam habitant felis diam; ullamcorper netus aenean consectetur leo. Purus phasellus potenti tortor maecenas pulvinar. Auctor cras cursus hac tempor nam leo ad.\n",
    "\n",
    "_by: [Name]_"
   ]
  },
  {
   "cell_type": "code",
   "execution_count": null,
   "metadata": {},
   "outputs": [],
   "source": [
    "from src.direct_method import direct_method, plot_concentration\n",
    "from src.config import DIAGONAL_VALUE, OFF_DIAGONAL_VALUE\n"
   ]
  },
  {
   "cell_type": "code",
   "execution_count": null,
   "metadata": {},
   "outputs": [],
   "source": [
    "plot_concentration(L=50)"
   ]
  },
  {
   "cell_type": "code",
   "execution_count": null,
   "metadata": {},
   "outputs": [],
   "source": [
    "# SOME CODE"
   ]
  },
  {
   "cell_type": "markdown",
   "metadata": {},
   "source": [
    "-----\n",
    "# 3.3 The leapfrog method - efficient time integration\n",
    "In this part, we solve a simple one dimensional harmonic oscillator equation using the leapfrog method.\n",
    "\n",
    "First, we solve the equation for position and velocity for different values of $k$ and plot the results.\n",
    "\n",
    "Next, we investigate how the initial velocity at the half step affects the accuracy of the method by comparing it to the analytical solution and testing with different sizes of the time steps $\\Delta t$.\n",
    "\n",
    "Finally, we add an external time-dependent sinusoidal driving force and investigate what happens when the driving force is close to the original frequency of the oscillator and show the phase plot (v, x) of various frequencies. \n",
    "\n",
    "_by: Anezka Potesilova_"
   ]
  },
  {
   "cell_type": "code",
   "execution_count": null,
   "metadata": {},
   "outputs": [],
   "source": [
    "from src.leapfrog import leapfrog, plot_leapfrog_various_k, plot_leapfrog_errors, plot_leapfrog_errors_start_end, plot_leapfrog_driving_force, plot_leapfrog_phase_plots"
   ]
  },
  {
   "cell_type": "markdown",
   "metadata": {},
   "source": [
    "### I. Leapfrog method\n",
    "\n",
    "We test three values of $k = 0.5, 2, 10$ and the default time step size $\\Delta t = 0.01$, and we plot the position and velocity for each of them.\n",
    "\n",
    "Total time $T$ is used to calculate the number of iterations/steps we will do, i.e. $T = \\#steps \\cdot \\Delta t$."
   ]
  },
  {
   "cell_type": "code",
   "execution_count": null,
   "metadata": {},
   "outputs": [],
   "source": [
    "T = 10\n",
    "\n",
    "def F_x(x, k):\n",
    "    return -k * x\n",
    "\n",
    "k_values = [0.5, 2, 10]\n",
    "positions = []\n",
    "velocities = []\n",
    "\n",
    "for k in k_values:\n",
    "    x_list, v_list = leapfrog(T, F_x, k)\n",
    "    positions.append(x_list)\n",
    "    velocities.append(v_list)\n",
    "\n",
    "plot_leapfrog_various_k(positions, velocities, k_values, T, save=False)"
   ]
  },
  {
   "cell_type": "markdown",
   "metadata": {},
   "source": [
    "DISCLAIMER: this part is mainly used for internal testing, to see how the curve behaves and compares to the analytical solution. It is not used to draw any major conclusions as there are better tools and measures for this.\n",
    "\n",
    "Next, we test how the initial velocity at the half step affects the error of the method for two options of the initial velocity and two step sizes and $k = 5$. We can see that setting $v_{1/2} = 0$ introduces an error at the beginning but as the sinusoidal curve moves along, it evens out and then starts to grow again. On the other hand, for our more exact approximation, the error grows over time as expected.\n",
    "\n",
    "Due to the sinusoidal nature, if we run the simulation for long enough, the curves will eventually match the exact solution again at least for a brief time before diverging again.\n",
    "\n",
    "Note that we are taking $T=1000$, which means that for the default $\\Delta t = 0.01$, we do a total of $100000$ steps."
   ]
  },
  {
   "cell_type": "code",
   "execution_count": null,
   "metadata": {},
   "outputs": [],
   "source": [
    "T = 1000\n",
    "k = 5\n",
    "\n",
    "def F_x(x, k):\n",
    "    return -k * x\n",
    "\n",
    "x_list_avg, v_list_avg = leapfrog(T, F_x, k)\n",
    "x_list_zero, v_list_zero = leapfrog(T, F_x, k, initial_v=\"zero\")\n",
    "\n",
    "# plot_leapfrog_errors([x_list_avg, x_list_zero], [v_list_avg, v_list_zero], k, T, save=False)"
   ]
  },
  {
   "cell_type": "markdown",
   "metadata": {},
   "source": [
    "Next, we test the same but for $\\Delta t = 0.1$.\n",
    "\n",
    "We can see that the error grows much faster and that indeed it starts to decrease again as the curve approaches the exact solution."
   ]
  },
  {
   "cell_type": "code",
   "execution_count": null,
   "metadata": {},
   "outputs": [],
   "source": [
    "T = 1000\n",
    "k = 5\n",
    "delta_t = 0.1\n",
    "\n",
    "def F_x(x, k):\n",
    "    return -k * x\n",
    "\n",
    "x_list_avg, v_list_avg = leapfrog(T, F_x, k, delta_t=delta_t)\n",
    "x_list_zero, v_list_zero = leapfrog(T, F_x, k, initial_v=\"zero\", delta_t=delta_t)\n",
    "\n",
    "# plot_leapfrog_errors([x_list_avg, x_list_zero], [v_list_avg, v_list_zero], k, T, save=False)"
   ]
  },
  {
   "cell_type": "markdown",
   "metadata": {},
   "source": [
    "We can also check how the solutions diverge at the beginning of the period vs at the end by looking at $T \\in [0,5]$ and $T \\in [995,1000]$"
   ]
  },
  {
   "cell_type": "code",
   "execution_count": null,
   "metadata": {},
   "outputs": [],
   "source": [
    "T = 1000\n",
    "k = 5\n",
    "delta_t = 0.05\n",
    "\n",
    "def F_x(x, k):\n",
    "    return -k * x\n",
    "\n",
    "x_list_avg, v_list_avg = leapfrog(T, F_x, k, delta_t=delta_t)\n",
    "x_list_zero, v_list_zero = leapfrog(T, F_x, k, initial_v=\"zero\", delta_t=delta_t)\n",
    "\n",
    "# plot_leapfrog_errors_start_end([x_list_avg, x_list_zero], k, T, delta_t=delta_t, save=False)"
   ]
  },
  {
   "cell_type": "markdown",
   "metadata": {},
   "source": [
    "### J. External driving force\n",
    "\n",
    "Lastly, we add the external time-dependent sinusoidal driving force, $F(t) = F_0 \\sin(\\omega_{drive} t)$.\n",
    "\n",
    "We fix $F_0 = 0.5$, $\\Delta t = 0.01$, $k =1$, and test for different values of $\\omega_{drive}$. We take these as multiplications of the original $\\omega$ to be able to investigate what happens when the frequency is close to the original frequency of the oscilator which corresponds to $\\omega_{drive} \\approx \\omega$."
   ]
  },
  {
   "cell_type": "code",
   "execution_count": null,
   "metadata": {},
   "outputs": [],
   "source": [
    "T = 50\n",
    "k, m = 1, 1\n",
    "delta_t = 0.01\n",
    "omega = (k / m)**0.5\n",
    "\n",
    "omegas = [omega*0.3, omega, omega*1.5]\n",
    "F_0 = 0.5\n",
    "\n",
    "def F_x(x, k):\n",
    "    return -k * x\n",
    "\n",
    "positions = []\n",
    "velocities = []\n",
    "\n",
    "for omega_drive in omegas:\n",
    "    def F_t(t):\n",
    "        return F_0 * np.sin(omega_drive * t)\n",
    "\n",
    "    x_list, v_list = leapfrog(T, F_x, k, F_t=F_t)\n",
    "    positions.append(x_list)\n",
    "    velocities.append(v_list)\n",
    "\n",
    "plot_leapfrog_driving_force(\n",
    "    positions, velocities, omegas, T, delta_t=delta_t, k=k, m=m, save=False\n",
    ")"
   ]
  },
  {
   "cell_type": "markdown",
   "metadata": {},
   "source": [
    "Lastly, we plot only the phase plots for 4 values of $\\omega_{drive}$ to be used in the report. The previous figure wouldn't fit and would be difficult to read."
   ]
  },
  {
   "cell_type": "code",
   "execution_count": null,
   "metadata": {},
   "outputs": [],
   "source": [
    "T = 100\n",
    "k, m = 1, 1\n",
    "omega = (k / m)**0.5\n",
    "\n",
    "omegas = [omega*0.3, omega*0.5, omega, omega*4]\n",
    "F_0 = 0.5\n",
    "\n",
    "def F_x(x, k):\n",
    "    return -k * x\n",
    "\n",
    "positions = []\n",
    "velocities = []\n",
    "\n",
    "for omega_drive in omegas:\n",
    "    def F_t(t):\n",
    "        return F_0 * np.sin(omega_drive * t)\n",
    "\n",
    "    x_list, v_list = leapfrog(T, F_x, k, F_t=F_t)\n",
    "    positions.append(x_list)\n",
    "    velocities.append(v_list)\n",
    "\n",
    "plot_leapfrog_phase_plots(positions, velocities, omegas, k=k, m=m, save=False)"
   ]
  }
 ],
 "metadata": {
  "kernelspec": {
   "display_name": "base",
   "language": "python",
   "name": "python3"
  },
  "language_info": {
   "codemirror_mode": {
    "name": "ipython",
    "version": 3
   },
   "file_extension": ".py",
   "mimetype": "text/x-python",
   "name": "python",
   "nbconvert_exporter": "python",
   "pygments_lexer": "ipython3",
   "version": "3.12.7"
  }
 },
 "nbformat": 4,
 "nbformat_minor": 2
}
